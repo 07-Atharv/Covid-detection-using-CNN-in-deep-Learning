{
  "nbformat": 4,
  "nbformat_minor": 0,
  "metadata": {
    "colab": {
      "provenance": [],
      "mount_file_id": "1NEjmnDB6O4DeKvG7giUHW6nOQdtYjMFZ",
      "authorship_tag": "ABX9TyP3hiwb9jTrQJqKMD6+OsFu",
      "include_colab_link": true
    },
    "kernelspec": {
      "name": "python3",
      "display_name": "Python 3"
    },
    "language_info": {
      "name": "python"
    }
  },
  "cells": [
    {
      "cell_type": "markdown",
      "metadata": {
        "id": "view-in-github",
        "colab_type": "text"
      },
      "source": [
        "<a href=\"https://colab.research.google.com/github/07-Atharv/Covid-detection-using-CNN-in-deep-Learning/blob/main/Covid_Detection_CNN.ipynb\" target=\"_parent\"><img src=\"https://colab.research.google.com/assets/colab-badge.svg\" alt=\"Open In Colab\"/></a>"
      ]
    },
    {
      "cell_type": "markdown",
      "source": [
        "## Importing the Required Packages"
      ],
      "metadata": {
        "id": "iplxNvlp5oz0"
      }
    },
    {
      "cell_type": "code",
      "execution_count": null,
      "metadata": {
        "id": "6NHK9Vt_v9T-"
      },
      "outputs": [],
      "source": [
        "from keras.models import Sequential\n",
        "from keras.layers import Conv2D\n",
        "from keras.layers import MaxPooling2D\n",
        "from keras.layers import Flatten\n",
        "from keras.layers import Dense"
      ]
    },
    {
      "cell_type": "markdown",
      "source": [
        "## Creating the object of the Sequential"
      ],
      "metadata": {
        "id": "kv_WIqWz67iC"
      }
    },
    {
      "cell_type": "code",
      "source": [
        "Classify = Sequential();"
      ],
      "metadata": {
        "id": "Md52fsVF5yc1"
      },
      "execution_count": null,
      "outputs": []
    },
    {
      "cell_type": "markdown",
      "source": [
        "Building the Architecture of CNN with the input layer , Hidden Layer , Output Layer"
      ],
      "metadata": {
        "id": "NoKih78f7EEx"
      }
    },
    {
      "cell_type": "code",
      "source": [
        "Classify.add(Conv2D(64,(3,3),input_shape=(64,64,3),activation='relu'))\n",
        "Classify.add(MaxPooling2D(pool_size=(2,2)))"
      ],
      "metadata": {
        "id": "_KnuB6Wj5_aY"
      },
      "execution_count": null,
      "outputs": []
    },
    {
      "cell_type": "code",
      "source": [
        "Classify.add(Conv2D(32,(3,3),activation='relu'))\n",
        "Classify.add(MaxPooling2D(pool_size=(2,2)))"
      ],
      "metadata": {
        "id": "UKZ5zjZc8Q4D"
      },
      "execution_count": null,
      "outputs": []
    },
    {
      "cell_type": "code",
      "source": [
        "Classify.add(Flatten())\n",
        "Classify.add(Dense(units=104,activation='relu'))\n",
        "Classify.add(Dense(units=1,activation='sigmoid'))"
      ],
      "metadata": {
        "id": "nOe7dtLZ8djl"
      },
      "execution_count": null,
      "outputs": []
    },
    {
      "cell_type": "code",
      "source": [
        "Classify.compile(optimizer='adam',loss='binary_crossentropy',metrics=['accuracy'])"
      ],
      "metadata": {
        "id": "tg-5NFJ-97Od"
      },
      "execution_count": null,
      "outputs": []
    },
    {
      "cell_type": "markdown",
      "source": [
        "## Data Augmentation"
      ],
      "metadata": {
        "id": "wlus4sEy-vOS"
      }
    },
    {
      "cell_type": "code",
      "source": [
        "from keras.preprocessing.image import ImageDataGenerator\n",
        "\n",
        "train_data = ImageDataGenerator(rescale=1./255,shear_range=0.4,zoom_range=0.3,horizontal_flip=True)\n",
        "test_data = ImageDataGenerator(rescale=1./255)"
      ],
      "metadata": {
        "id": "tBfAgOiP-syy"
      },
      "execution_count": null,
      "outputs": []
    },
    {
      "cell_type": "code",
      "source": [
        "new_train = train_data.flow_from_directory('/content/drive/MyDrive/dataaasettttt/newdataset/Covid19-dataset/train',target_size=(64,64),batch_size=4,class_mode='binary')\n",
        "new_test = train_data.flow_from_directory('/content/drive/MyDrive/dataaasettttt/newdataset/Covid19-dataset/test',target_size=(64,64),batch_size=4,class_mode='binary')"
      ],
      "metadata": {
        "colab": {
          "base_uri": "https://localhost:8080/"
        },
        "id": "teCdq08iAFqe",
        "outputId": "658916e9-147f-4460-88f0-3d8adb48df64"
      },
      "execution_count": null,
      "outputs": [
        {
          "output_type": "stream",
          "name": "stdout",
          "text": [
            "Found 181 images belonging to 2 classes.\n",
            "Found 46 images belonging to 2 classes.\n"
          ]
        }
      ]
    },
    {
      "cell_type": "code",
      "source": [
        "Classify.fit_generator(new_train,steps_per_epoch=40,epochs=5,validation_data=new_test,validation_steps=8)"
      ],
      "metadata": {
        "colab": {
          "base_uri": "https://localhost:8080/"
        },
        "id": "jLVF4IUAKHO6",
        "outputId": "d942b5f9-d2e8-48a4-8e18-ce19cf12fc67"
      },
      "execution_count": null,
      "outputs": [
        {
          "output_type": "stream",
          "name": "stderr",
          "text": [
            "<ipython-input-30-2cf48d52a60d>:1: UserWarning: `Model.fit_generator` is deprecated and will be removed in a future version. Please use `Model.fit`, which supports generators.\n",
            "  Classify.fit_generator(new_train,steps_per_epoch=40,epochs=5,validation_data=new_test,validation_steps=8)\n"
          ]
        },
        {
          "output_type": "stream",
          "name": "stdout",
          "text": [
            "Epoch 1/5\n",
            "40/40 [==============================] - 103s 3s/step - loss: 0.6968 - accuracy: 0.5732 - val_loss: 0.6864 - val_accuracy: 0.4375\n",
            "Epoch 2/5\n",
            "40/40 [==============================] - 19s 480ms/step - loss: 0.5994 - accuracy: 0.7070 - val_loss: 0.1642 - val_accuracy: 0.9375\n",
            "Epoch 3/5\n",
            "40/40 [==============================] - 15s 379ms/step - loss: 0.4305 - accuracy: 0.7834 - val_loss: 0.2415 - val_accuracy: 0.9375\n",
            "Epoch 4/5\n",
            "40/40 [==============================] - 13s 312ms/step - loss: 0.3317 - accuracy: 0.8375 - val_loss: 0.0565 - val_accuracy: 1.0000\n",
            "Epoch 5/5\n",
            "40/40 [==============================] - 10s 247ms/step - loss: 0.2374 - accuracy: 0.9108 - val_loss: 0.2686 - val_accuracy: 0.8125\n"
          ]
        },
        {
          "output_type": "execute_result",
          "data": {
            "text/plain": [
              "<keras.src.callbacks.History at 0x7e9caf6ffc40>"
            ]
          },
          "metadata": {},
          "execution_count": 30
        }
      ]
    },
    {
      "cell_type": "code",
      "source": [
        "import numpy as np\n",
        "from keras.preprocessing import image\n",
        "test_img = image.load_img(r'/content/drive/MyDrive/dataaasettttt/newdataset/Covid19-dataset/test/Covid/0100.jpeg',target_size=(64,64))\n",
        "test_img = image.img_to_array(test_img)\n",
        "test_img = np.expand_dims(test_img,axis=0)\n",
        "res = Classify.predict(test_img)\n",
        "new_test.class_indices\n",
        "if res[0][0]==1:\n",
        "  prediction='Normal'\n",
        "  print(prediction)\n",
        "else:\n",
        "  prediction='Covid'\n",
        "  print(prediction)"
      ],
      "metadata": {
        "colab": {
          "base_uri": "https://localhost:8080/"
        },
        "id": "EtDObej6MyG1",
        "outputId": "c0467514-9a7e-4d9c-ca8f-ffc382f4cf7a"
      },
      "execution_count": null,
      "outputs": [
        {
          "output_type": "stream",
          "name": "stdout",
          "text": [
            "1/1 [==============================] - 0s 27ms/step\n",
            "Covid\n"
          ]
        }
      ]
    }
  ]
}